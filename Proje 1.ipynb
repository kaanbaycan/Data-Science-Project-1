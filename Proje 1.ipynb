{
 "cells": [
  {
   "cell_type": "code",
   "execution_count": 1,
   "id": "baba670a",
   "metadata": {},
   "outputs": [],
   "source": [
    "import numpy as np\n",
    "import pandas as pd\n",
    "import matplotlib.pyplot as plt\n",
    "import seaborn as sns\n",
    "from datetime import date, time\n",
    "from datetime import datetime as dt"
   ]
  },
  {
   "cell_type": "code",
   "execution_count": 2,
   "id": "26974086",
   "metadata": {},
   "outputs": [],
   "source": [
    "df1 = pd.read_csv(\"http://web.mta.info/developers/data/nyct/turnstile/turnstile_220507.txt\")\n",
    "\n",
    "df2 = pd.read_csv(\"http://web.mta.info/developers/data/nyct/turnstile/turnstile_220514.txt\")\n",
    "\n",
    "df3 = pd.read_csv(\"http://web.mta.info/developers/data/nyct/turnstile/turnstile_220521.txt\")\n",
    "\n",
    "df4 = pd.read_csv(\"http://web.mta.info/developers/data/nyct/turnstile/turnstile_220528.txt\")\n",
    "\n",
    "df5 = pd.read_csv(\"http://web.mta.info/developers/data/nyct/turnstile/turnstile_220604.txt\")"
   ]
  },
  {
   "cell_type": "code",
   "execution_count": 3,
   "id": "99b4645b",
   "metadata": {},
   "outputs": [],
   "source": [
    "dfmay = pd.concat([df1,df2, df3, df4, df5], ignore_index=True) "
   ]
  },
  {
   "cell_type": "code",
   "execution_count": 4,
   "id": "cea0f570",
   "metadata": {},
   "outputs": [
    {
     "name": "stdout",
     "output_type": "stream",
     "text": [
      "<class 'pandas.core.frame.DataFrame'>\n",
      "RangeIndex: 1055980 entries, 0 to 1055979\n",
      "Data columns (total 11 columns):\n",
      " #   Column                                                                Non-Null Count    Dtype \n",
      "---  ------                                                                --------------    ----- \n",
      " 0   C/A                                                                   1055980 non-null  object\n",
      " 1   UNIT                                                                  1055980 non-null  object\n",
      " 2   SCP                                                                   1055980 non-null  object\n",
      " 3   STATION                                                               1055980 non-null  object\n",
      " 4   LINENAME                                                              1055980 non-null  object\n",
      " 5   DIVISION                                                              1055980 non-null  object\n",
      " 6   DATE                                                                  1055980 non-null  object\n",
      " 7   TIME                                                                  1055980 non-null  object\n",
      " 8   DESC                                                                  1055980 non-null  object\n",
      " 9   ENTRIES                                                               1055980 non-null  int64 \n",
      " 10  EXITS                                                                 1055980 non-null  int64 \n",
      "dtypes: int64(2), object(9)\n",
      "memory usage: 88.6+ MB\n"
     ]
    }
   ],
   "source": [
    "dfmay.info()"
   ]
  },
  {
   "cell_type": "code",
   "execution_count": 5,
   "id": "641dff29",
   "metadata": {},
   "outputs": [
    {
     "data": {
      "text/plain": [
       "0          04/30/2022 00:00:00\n",
       "1          04/30/2022 04:00:00\n",
       "2          04/30/2022 08:00:00\n",
       "3          04/30/2022 12:00:00\n",
       "4          04/30/2022 16:00:00\n",
       "                  ...         \n",
       "1055975    06/03/2022 05:00:00\n",
       "1055976    06/03/2022 09:00:00\n",
       "1055977    06/03/2022 13:00:00\n",
       "1055978    06/03/2022 17:00:00\n",
       "1055979    06/03/2022 21:00:00\n",
       "Length: 1055980, dtype: object"
      ]
     },
     "execution_count": 5,
     "metadata": {},
     "output_type": "execute_result"
    }
   ],
   "source": [
    "dfmay[\"DATE\"]+\" \"+ dfmay[\"TIME\"]"
   ]
  },
  {
   "cell_type": "code",
   "execution_count": 6,
   "id": "406f4bc9",
   "metadata": {},
   "outputs": [],
   "source": [
    "datettimes = pd.to_datetime(dfmay[\"DATE\"] + \" \" + dfmay[\"TIME\"])"
   ]
  },
  {
   "cell_type": "code",
   "execution_count": 7,
   "id": "cf268c45",
   "metadata": {},
   "outputs": [],
   "source": [
    "dfmay.insert(loc = 11,column = \"datetime\", value = datettimes )"
   ]
  },
  {
   "cell_type": "code",
   "execution_count": 8,
   "id": "61ae386e",
   "metadata": {},
   "outputs": [],
   "source": [
    "turnstiles = dfmay[\"C/A\"] + dfmay[\"UNIT\"] + dfmay[\"SCP\"]"
   ]
  },
  {
   "cell_type": "code",
   "execution_count": 9,
   "id": "6dbede66",
   "metadata": {},
   "outputs": [],
   "source": [
    "dfmay.insert(loc = 12,column = \"turnstile\", value = turnstiles )"
   ]
  },
  {
   "cell_type": "code",
   "execution_count": 10,
   "id": "b3e11b8c",
   "metadata": {},
   "outputs": [],
   "source": [
    "dfmay.drop(columns = [\"C/A\", \"UNIT\", \"SCP\", \"DATE\", \"TIME\"], inplace = True)"
   ]
  },
  {
   "cell_type": "code",
   "execution_count": 11,
   "id": "846c067f",
   "metadata": {},
   "outputs": [
    {
     "name": "stdout",
     "output_type": "stream",
     "text": [
      "<class 'pandas.core.frame.DataFrame'>\n",
      "RangeIndex: 1055980 entries, 0 to 1055979\n",
      "Data columns (total 8 columns):\n",
      " #   Column                                                                Non-Null Count    Dtype         \n",
      "---  ------                                                                --------------    -----         \n",
      " 0   STATION                                                               1055980 non-null  object        \n",
      " 1   LINENAME                                                              1055980 non-null  object        \n",
      " 2   DIVISION                                                              1055980 non-null  object        \n",
      " 3   DESC                                                                  1055980 non-null  object        \n",
      " 4   ENTRIES                                                               1055980 non-null  int64         \n",
      " 5   EXITS                                                                 1055980 non-null  int64         \n",
      " 6   datetime                                                              1055980 non-null  datetime64[ns]\n",
      " 7   turnstile                                                             1055980 non-null  object        \n",
      "dtypes: datetime64[ns](1), int64(2), object(5)\n",
      "memory usage: 64.5+ MB\n"
     ]
    }
   ],
   "source": [
    "dfmay.info()"
   ]
  },
  {
   "cell_type": "code",
   "execution_count": 12,
   "id": "f0099782",
   "metadata": {},
   "outputs": [],
   "source": [
    "dfmay.rename(columns = lambda x: x.strip(), inplace = True)"
   ]
  },
  {
   "cell_type": "code",
   "execution_count": 13,
   "id": "b01547ea",
   "metadata": {},
   "outputs": [],
   "source": [
    "dfmay.insert(loc = 8,column= \"density\",value = dfmay[\"ENTRIES\"] + dfmay[\"EXITS\"])"
   ]
  },
  {
   "cell_type": "code",
   "execution_count": 14,
   "id": "eb76c6bc",
   "metadata": {
    "scrolled": false
   },
   "outputs": [
    {
     "name": "stdout",
     "output_type": "stream",
     "text": [
      "<class 'pandas.core.frame.DataFrame'>\n",
      "RangeIndex: 1055980 entries, 0 to 1055979\n",
      "Data columns (total 9 columns):\n",
      " #   Column     Non-Null Count    Dtype         \n",
      "---  ------     --------------    -----         \n",
      " 0   STATION    1055980 non-null  object        \n",
      " 1   LINENAME   1055980 non-null  object        \n",
      " 2   DIVISION   1055980 non-null  object        \n",
      " 3   DESC       1055980 non-null  object        \n",
      " 4   ENTRIES    1055980 non-null  int64         \n",
      " 5   EXITS      1055980 non-null  int64         \n",
      " 6   datetime   1055980 non-null  datetime64[ns]\n",
      " 7   turnstile  1055980 non-null  object        \n",
      " 8   density    1055980 non-null  int64         \n",
      "dtypes: datetime64[ns](1), int64(3), object(5)\n",
      "memory usage: 72.5+ MB\n"
     ]
    }
   ],
   "source": [
    "dfmay.info()"
   ]
  },
  {
   "cell_type": "code",
   "execution_count": 15,
   "id": "158de07c",
   "metadata": {},
   "outputs": [
    {
     "data": {
      "text/plain": [
       "0          5\n",
       "1          5\n",
       "2          5\n",
       "3          5\n",
       "4          5\n",
       "          ..\n",
       "1055975    4\n",
       "1055976    4\n",
       "1055977    4\n",
       "1055978    4\n",
       "1055979    4\n",
       "Name: datetime, Length: 1055980, dtype: int64"
      ]
     },
     "execution_count": 15,
     "metadata": {},
     "output_type": "execute_result"
    }
   ],
   "source": [
    "dfmay['datetime'].dt.dayofweek"
   ]
  },
  {
   "cell_type": "code",
   "execution_count": 16,
   "id": "5d83efbd",
   "metadata": {},
   "outputs": [],
   "source": [
    "dfmay['day'] = dfmay['datetime'].dt.day_name()"
   ]
  },
  {
   "cell_type": "code",
   "execution_count": 20,
   "id": "da5495db",
   "metadata": {
    "scrolled": true
   },
   "outputs": [
    {
     "name": "stdout",
     "output_type": "stream",
     "text": [
      "<class 'pandas.core.frame.DataFrame'>\n",
      "RangeIndex: 1055980 entries, 0 to 1055979\n",
      "Data columns (total 10 columns):\n",
      " #   Column     Non-Null Count    Dtype         \n",
      "---  ------     --------------    -----         \n",
      " 0   STATION    1055980 non-null  object        \n",
      " 1   LINENAME   1055980 non-null  object        \n",
      " 2   DIVISION   1055980 non-null  object        \n",
      " 3   DESC       1055980 non-null  object        \n",
      " 4   ENTRIES    1055980 non-null  int64         \n",
      " 5   EXITS      1055980 non-null  int64         \n",
      " 6   datetime   1055980 non-null  datetime64[ns]\n",
      " 7   turnstile  1055980 non-null  object        \n",
      " 8   density    1055980 non-null  int64         \n",
      " 9   day        1055980 non-null  object        \n",
      "dtypes: datetime64[ns](1), int64(3), object(6)\n",
      "memory usage: 80.6+ MB\n"
     ]
    }
   ],
   "source": [
    "dfmay.info()"
   ]
  },
  {
   "cell_type": "code",
   "execution_count": 52,
   "id": "729aa312",
   "metadata": {},
   "outputs": [],
   "source": [
    "densities = dfmay.groupby('STATION').density.sum()"
   ]
  },
  {
   "cell_type": "code",
   "execution_count": 77,
   "id": "0ce6915e",
   "metadata": {},
   "outputs": [],
   "source": [
    "densities.sort_values(ascending = False, inplace = True)"
   ]
  },
  {
   "cell_type": "code",
   "execution_count": 78,
   "id": "c1694e2e",
   "metadata": {},
   "outputs": [
    {
     "data": {
      "text/plain": [
       "STATION\n",
       "125 ST             3367660916270\n",
       "42 ST-PORT AUTH    2852531355651\n",
       "FULTON ST          2631066807907\n",
       "23 ST              2438797316447\n",
       "DEKALB AV          2305024711093\n",
       "TIMES SQ-42 ST     2095208685518\n",
       "34 ST-PENN STA     2059953962773\n",
       "CANAL ST           1996256399189\n",
       "161/YANKEE STAD    1691967360454\n",
       "183 ST             1547039757358\n",
       "34 ST-HERALD SQ    1500266665304\n",
       "HUNTS POINT AV     1474626043279\n",
       "14 ST              1373409218931\n",
       "CHAMBERS ST        1343848000899\n",
       "167 ST             1337998098319\n",
       "72 ST-2 AVE        1322345368909\n",
       "59 ST COLUMBUS     1291828264120\n",
       "18 AV              1281785750245\n",
       "LEXINGTON AV/53    1276006500622\n",
       "135 ST             1175159577376\n",
       "Name: density, dtype: int64"
      ]
     },
     "execution_count": 78,
     "metadata": {},
     "output_type": "execute_result"
    }
   ],
   "source": [
    "densities.head(20)"
   ]
  },
  {
   "cell_type": "code",
   "execution_count": 79,
   "id": "30462cd0",
   "metadata": {},
   "outputs": [],
   "source": [
    "dens = densities.head(30)"
   ]
  },
  {
   "cell_type": "code",
   "execution_count": 80,
   "id": "1b59d6bb",
   "metadata": {},
   "outputs": [
    {
     "data": {
      "text/plain": [
       "<BarContainer object of 30 artists>"
      ]
     },
     "execution_count": 80,
     "metadata": {},
     "output_type": "execute_result"
    },
    {
     "data": {
      "image/png": "[encoded data removed]",
      "text/plain": [
       "<Figure size 1440x720 with 1 Axes>"
      ]
     },
     "metadata": {
      "needs_background": "light"
     },
     "output_type": "display_data"
    }
   ],
   "source": [
    "plt.figure(figsize=(20,10))\n",
    "plt.barh(y = dens.index, width = dens,)"
   ]
  },
  {
   "cell_type": "code",
   "execution_count": null,
   "id": "1dfbfc92",
   "metadata": {},
   "outputs": [],
   "source": []
  }
 ],
 "metadata": {
  "kernelspec": {
   "display_name": "Python 3 (ipykernel)",
   "language": "python",
   "name": "python3"
  },
  "language_info": {
   "codemirror_mode": {
    "name": "ipython",
    "version": 3
   },
   "file_extension": ".py",
   "mimetype": "text/x-python",
   "name": "python",
   "nbconvert_exporter": "python",
   "pygments_lexer": "ipython3",
   "version": "3.9.7"
  }
 },
 "nbformat": 4,
 "nbformat_minor": 5
}
